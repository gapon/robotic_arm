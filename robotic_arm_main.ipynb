{
 "cells": [
  {
   "cell_type": "code",
   "execution_count": 29,
   "id": "18e6c187",
   "metadata": {},
   "outputs": [],
   "source": [
    "import serial\n",
    "import os"
   ]
  },
  {
   "cell_type": "code",
   "execution_count": 30,
   "id": "4f039c08",
   "metadata": {},
   "outputs": [
    {
     "name": "stdout",
     "output_type": "stream",
     "text": [
      "/dev/cu.usbserial-14110\n"
     ]
    }
   ],
   "source": [
    "# ARDUINO_PORT = os.getenv('ARDUINO_PORT')\n",
    "ARDUINO_PORT  = '/dev/cu.usbserial-14110'\n",
    "print(ARDUINO_PORT)"
   ]
  },
  {
   "cell_type": "code",
   "execution_count": 31,
   "id": "3205f31a",
   "metadata": {},
   "outputs": [],
   "source": [
    "#with serial.Serial(ARDUINO_PORT, 9600, timeout=1) as ser:\n",
    "#    ser.write(b'servo1:60')"
   ]
  },
  {
   "cell_type": "code",
   "execution_count": 32,
   "id": "fa22d831",
   "metadata": {},
   "outputs": [],
   "source": [
    "ser = serial.Serial(ARDUINO_PORT, 9600)"
   ]
  },
  {
   "cell_type": "code",
   "execution_count": 40,
   "id": "19a5357e",
   "metadata": {},
   "outputs": [
    {
     "data": {
      "text/plain": [
       "10"
      ]
     },
     "execution_count": 40,
     "metadata": {},
     "output_type": "execute_result"
    }
   ],
   "source": [
    "ser.write(b'servo1:60\\n')"
   ]
  },
  {
   "cell_type": "code",
   "execution_count": 28,
   "id": "e02933ae",
   "metadata": {},
   "outputs": [],
   "source": [
    "ser.close()"
   ]
  },
  {
   "cell_type": "code",
   "execution_count": null,
   "id": "1e7b670f",
   "metadata": {},
   "outputs": [],
   "source": [
    "# arduino.close()\n",
    "# print('INFO: Arduino Serial Closed')"
   ]
  },
  {
   "cell_type": "code",
   "execution_count": null,
   "id": "4b50a820",
   "metadata": {},
   "outputs": [],
   "source": []
  }
 ],
 "metadata": {
  "kernelspec": {
   "display_name": "pomodoro",
   "language": "python",
   "name": "pomodoro"
  },
  "language_info": {
   "codemirror_mode": {
    "name": "ipython",
    "version": 3
   },
   "file_extension": ".py",
   "mimetype": "text/x-python",
   "name": "python",
   "nbconvert_exporter": "python",
   "pygments_lexer": "ipython3",
   "version": "3.9.1"
  }
 },
 "nbformat": 4,
 "nbformat_minor": 5
}
